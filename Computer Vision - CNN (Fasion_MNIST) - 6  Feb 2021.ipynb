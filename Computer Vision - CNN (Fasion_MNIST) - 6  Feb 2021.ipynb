{
 "cells": [
  {
   "cell_type": "code",
   "execution_count": 1,
   "metadata": {},
   "outputs": [],
   "source": [
    "import tensorflow as tf\n",
    "from tensorflow import keras"
   ]
  },
  {
   "cell_type": "code",
   "execution_count": 2,
   "metadata": {},
   "outputs": [],
   "source": [
    "(train_images, train_labels), (test_images, test_labels)=tf.keras.datasets.fashion_mnist.load_data()"
   ]
  },
  {
   "cell_type": "code",
   "execution_count": 3,
   "metadata": {},
   "outputs": [
    {
     "data": {
      "text/plain": [
       "(60000, 28, 28)"
      ]
     },
     "execution_count": 3,
     "metadata": {},
     "output_type": "execute_result"
    }
   ],
   "source": [
    "train_images.shape"
   ]
  },
  {
   "cell_type": "code",
   "execution_count": 4,
   "metadata": {},
   "outputs": [],
   "source": [
    "train_images=train_images.astype('float32')\n",
    "test_images=test_images.astype('float32')"
   ]
  },
  {
   "cell_type": "code",
   "execution_count": 5,
   "metadata": {},
   "outputs": [],
   "source": [
    "train_images=train_images.reshape(60000,28,28,1)"
   ]
  },
  {
   "cell_type": "code",
   "execution_count": 6,
   "metadata": {},
   "outputs": [
    {
     "data": {
      "text/plain": [
       "(60000, 28, 28, 1)"
      ]
     },
     "execution_count": 6,
     "metadata": {},
     "output_type": "execute_result"
    }
   ],
   "source": [
    "train_images=train_images/255.0\n",
    "train_images.shape"
   ]
  },
  {
   "cell_type": "code",
   "execution_count": 7,
   "metadata": {},
   "outputs": [],
   "source": [
    "test_images=test_images.reshape(10000,28,28,1)/255.0"
   ]
  },
  {
   "cell_type": "code",
   "execution_count": 8,
   "metadata": {},
   "outputs": [
    {
     "data": {
      "text/plain": [
       "(10000, 28, 28, 1)"
      ]
     },
     "execution_count": 8,
     "metadata": {},
     "output_type": "execute_result"
    }
   ],
   "source": [
    "test_images.shape"
   ]
  },
  {
   "cell_type": "code",
   "execution_count": 9,
   "metadata": {},
   "outputs": [],
   "source": [
    "model=tf.keras.models.Sequential([\n",
    "    tf.keras.layers.Conv2D(32,(3,3),activation='relu',input_shape=(28,28,1)),\n",
    "    tf.keras.layers.MaxPooling2D(2,2),\n",
    "    tf.keras.layers.Conv2D(64,(3,3), activation='relu'),\n",
    "    tf.keras.layers.MaxPooling2D(2,2),\n",
    "    tf.keras.layers.Dropout(.50),\n",
    "    tf.keras.layers.Flatten(),\n",
    "    tf.keras.layers.Dense(512,activation='relu'),\n",
    "    tf.keras.layers.Dense(10,activation='softmax')\n",
    "])"
   ]
  },
  {
   "cell_type": "code",
   "execution_count": 10,
   "metadata": {},
   "outputs": [],
   "source": [
    "model.compile(optimizer='adam',loss='sparse_categorical_crossentropy', metrics=['accuracy'])"
   ]
  },
  {
   "cell_type": "code",
   "execution_count": 11,
   "metadata": {},
   "outputs": [
    {
     "name": "stdout",
     "output_type": "stream",
     "text": [
      "Train on 60000 samples, validate on 10000 samples\n",
      "Epoch 1/14\n",
      "60000/60000 [==============================] - 60s 1ms/sample - loss: 0.4827 - accuracy: 0.8223 - val_loss: 0.3529 - val_accuracy: 0.8707\n",
      "Epoch 2/14\n",
      "60000/60000 [==============================] - 60s 1ms/sample - loss: 0.3346 - accuracy: 0.8761 - val_loss: 0.2966 - val_accuracy: 0.8886\n",
      "Epoch 3/14\n",
      "60000/60000 [==============================] - 61s 1ms/sample - loss: 0.2946 - accuracy: 0.8895 - val_loss: 0.2854 - val_accuracy: 0.8944\n",
      "Epoch 4/14\n",
      "60000/60000 [==============================] - 67s 1ms/sample - loss: 0.2673 - accuracy: 0.9003 - val_loss: 0.2622 - val_accuracy: 0.9034\n",
      "Epoch 5/14\n",
      "60000/60000 [==============================] - 67s 1ms/sample - loss: 0.2489 - accuracy: 0.9071 - val_loss: 0.2657 - val_accuracy: 0.9046\n",
      "Epoch 6/14\n",
      "60000/60000 [==============================] - 62s 1ms/sample - loss: 0.2329 - accuracy: 0.9127 - val_loss: 0.2406 - val_accuracy: 0.9126\n",
      "Epoch 7/14\n",
      "60000/60000 [==============================] - 62s 1ms/sample - loss: 0.2222 - accuracy: 0.9158 - val_loss: 0.2469 - val_accuracy: 0.9106\n",
      "Epoch 8/14\n",
      "60000/60000 [==============================] - 64s 1ms/sample - loss: 0.2104 - accuracy: 0.9210 - val_loss: 0.2467 - val_accuracy: 0.9075\n",
      "Epoch 9/14\n",
      "60000/60000 [==============================] - 65s 1ms/sample - loss: 0.1988 - accuracy: 0.9250 - val_loss: 0.2329 - val_accuracy: 0.9170\n",
      "Epoch 10/14\n",
      "60000/60000 [==============================] - 61s 1ms/sample - loss: 0.1887 - accuracy: 0.9290 - val_loss: 0.2471 - val_accuracy: 0.9109\n",
      "Epoch 11/14\n",
      "60000/60000 [==============================] - 58s 966us/sample - loss: 0.1813 - accuracy: 0.9319 - val_loss: 0.2466 - val_accuracy: 0.9137\n",
      "Epoch 12/14\n",
      "60000/60000 [==============================] - 65s 1ms/sample - loss: 0.1704 - accuracy: 0.9359 - val_loss: 0.2335 - val_accuracy: 0.9189\n",
      "Epoch 13/14\n",
      "60000/60000 [==============================] - 65s 1ms/sample - loss: 0.1659 - accuracy: 0.9369 - val_loss: 0.2403 - val_accuracy: 0.9178\n",
      "Epoch 14/14\n",
      "60000/60000 [==============================] - 59s 987us/sample - loss: 0.1602 - accuracy: 0.9386 - val_loss: 0.2348 - val_accuracy: 0.9192\n"
     ]
    }
   ],
   "source": [
    "history=model.fit(train_images,train_labels, epochs=14, validation_data=(test_images,test_labels))"
   ]
  },
  {
   "cell_type": "code",
   "execution_count": 12,
   "metadata": {},
   "outputs": [
    {
     "name": "stdout",
     "output_type": "stream",
     "text": [
      "Model: \"sequential\"\n",
      "_________________________________________________________________\n",
      "Layer (type)                 Output Shape              Param #   \n",
      "=================================================================\n",
      "conv2d (Conv2D)              (None, 26, 26, 32)        320       \n",
      "_________________________________________________________________\n",
      "max_pooling2d (MaxPooling2D) (None, 13, 13, 32)        0         \n",
      "_________________________________________________________________\n",
      "conv2d_1 (Conv2D)            (None, 11, 11, 64)        18496     \n",
      "_________________________________________________________________\n",
      "max_pooling2d_1 (MaxPooling2 (None, 5, 5, 64)          0         \n",
      "_________________________________________________________________\n",
      "dropout (Dropout)            (None, 5, 5, 64)          0         \n",
      "_________________________________________________________________\n",
      "flatten (Flatten)            (None, 1600)              0         \n",
      "_________________________________________________________________\n",
      "dense (Dense)                (None, 512)               819712    \n",
      "_________________________________________________________________\n",
      "dense_1 (Dense)              (None, 10)                5130      \n",
      "=================================================================\n",
      "Total params: 843,658\n",
      "Trainable params: 843,658\n",
      "Non-trainable params: 0\n",
      "_________________________________________________________________\n"
     ]
    }
   ],
   "source": [
    "model.summary()"
   ]
  },
  {
   "cell_type": "code",
   "execution_count": 13,
   "metadata": {},
   "outputs": [
    {
     "name": "stdout",
     "output_type": "stream",
     "text": [
      "10000/10000 [==============================] - 2s 245us/sample - loss: 0.2348 - accuracy: 0.9192\n"
     ]
    },
    {
     "data": {
      "text/plain": [
       "[0.23479233056902885, 0.9192]"
      ]
     },
     "execution_count": 13,
     "metadata": {},
     "output_type": "execute_result"
    }
   ],
   "source": [
    "model.evaluate(test_images, test_labels)"
   ]
  },
  {
   "cell_type": "code",
   "execution_count": 14,
   "metadata": {},
   "outputs": [
    {
     "data": {
      "image/png": "[encoded data removed]",
      "text/plain": [
       "<Figure size 432x288 with 1 Axes>"
      ]
     },
     "metadata": {
      "needs_background": "light"
     },
     "output_type": "display_data"
    },
    {
     "data": {
      "image/png": "[encoded data removed]",
      "text/plain": [
       "<Figure size 432x288 with 1 Axes>"
      ]
     },
     "metadata": {
      "needs_background": "light"
     },
     "output_type": "display_data"
    },
    {
     "data": {
      "text/plain": [
       "<Figure size 432x288 with 0 Axes>"
      ]
     },
     "metadata": {},
     "output_type": "display_data"
    }
   ],
   "source": [
    "import matplotlib.pyplot as plt\n",
    "history_dict=history.history\n",
    "\n",
    "loss_values=history_dict['loss']\n",
    "val_loss_values=history_dict['val_loss']\n",
    "epochs = range(1, len(loss_values)+1)\n",
    "plt.plot(epochs, loss_values, 'bo', label='Training Loss')\n",
    "plt.plot(epochs, val_loss_values, 'b', label='Validation Loss')\n",
    "plt.title('Training and Validation Loss')\n",
    "plt.xlabel('Epochs')\n",
    "plt.ylabel('Loss')\n",
    "plt.legend()\n",
    "plt.show()\n",
    "plt.clf()\n",
    "\n",
    "acc_values=history_dict['accuracy']\n",
    "val_acc_values=history_dict['val_accuracy']\n",
    "plt.plot(epochs, acc_values, 'bo', label='Training Accuracy')\n",
    "plt.plot(epochs, val_acc_values, 'b', label='Validation Accuracy')\n",
    "plt.title('Training and Validation accuracy')\n",
    "plt.xlabel('Epochs')\n",
    "plt.ylabel('Accuracy')\n",
    "plt.legend()\n",
    "plt.show()\n",
    "plt.clf()"
   ]
  },
  {
   "cell_type": "code",
   "execution_count": 15,
   "metadata": {},
   "outputs": [],
   "source": [
    "y_predict=model.predict(test_images)"
   ]
  },
  {
   "cell_type": "code",
   "execution_count": 16,
   "metadata": {},
   "outputs": [
    {
     "name": "stdout",
     "output_type": "stream",
     "text": [
      "[[2.4188313e-07 2.4320675e-08 1.1472219e-09 ... 5.8171074e-05\n",
      "  3.5427823e-09 9.9966204e-01]\n",
      " [5.4726837e-07 7.1436352e-13 9.9995410e-01 ... 2.7478278e-15\n",
      "  9.5007069e-10 1.8824140e-11]\n",
      " [1.0330866e-22 1.0000000e+00 4.3189175e-23 ... 0.0000000e+00\n",
      "  1.3202295e-22 4.6162502e-38]\n",
      " ...\n",
      " [3.1343227e-17 2.7700564e-22 8.9499625e-17 ... 2.2495684e-21\n",
      "  1.0000000e+00 1.1932298e-20]\n",
      " [2.3431771e-14 1.0000000e+00 3.8915428e-13 ... 3.9624736e-24\n",
      "  6.4161912e-17 5.8356206e-23]\n",
      " [5.1066971e-05 3.6651058e-09 4.4788353e-06 ... 1.7373422e-02\n",
      "  1.0448153e-03 9.1771384e-05]]\n"
     ]
    }
   ],
   "source": [
    "print(y_predict)"
   ]
  },
  {
   "cell_type": "code",
   "execution_count": 22,
   "metadata": {},
   "outputs": [],
   "source": [
    "from keras.models import load_model\n",
    "\n",
    "model.save('mnist.h5')  # creates a HDF5 file 'my_model.h5'\n"
   ]
  },
  {
   "cell_type": "code",
   "execution_count": null,
   "metadata": {},
   "outputs": [],
   "source": []
  }
 ],
 "metadata": {
  "kernelspec": {
   "display_name": "Python 3",
   "language": "python",
   "name": "python3"
  },
  "language_info": {
   "codemirror_mode": {
    "name": "ipython",
    "version": 3
   },
   "file_extension": ".py",
   "mimetype": "text/x-python",
   "name": "python",
   "nbconvert_exporter": "python",
   "pygments_lexer": "ipython3",
   "version": "3.7.7"
  }
 },
 "nbformat": 4,
 "nbformat_minor": 4
}
