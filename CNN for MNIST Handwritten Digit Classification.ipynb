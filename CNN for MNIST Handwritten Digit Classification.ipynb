{
 "cells": [
  {
   "cell_type": "code",
   "execution_count": 1,
   "metadata": {},
   "outputs": [],
   "source": [
    "import tensorflow as tf\n",
    "import numpy as np\n",
    "from tensorflow import keras\n",
    "import matplotlib.pyplot as plt"
   ]
  },
  {
   "cell_type": "markdown",
   "metadata": {},
   "source": [
    "# Task No 1: Download the dataset"
   ]
  },
  {
   "cell_type": "code",
   "execution_count": 2,
   "metadata": {},
   "outputs": [],
   "source": [
    "(trainX, trainY), (testX, testY) = tf.keras.datasets.mnist.load_data()"
   ]
  },
  {
   "cell_type": "markdown",
   "metadata": {},
   "source": [
    "# Task No 2: Check the Size and Plot the Images"
   ]
  },
  {
   "cell_type": "code",
   "execution_count": 8,
   "metadata": {},
   "outputs": [
    {
     "data": {
      "text/plain": [
       "(60000, 28, 28)"
      ]
     },
     "execution_count": 8,
     "metadata": {},
     "output_type": "execute_result"
    }
   ],
   "source": [
    "trainX.shape"
   ]
  },
  {
   "cell_type": "code",
   "execution_count": 9,
   "metadata": {},
   "outputs": [
    {
     "data": {
      "text/plain": [
       "(28, 28)"
      ]
     },
     "execution_count": 9,
     "metadata": {},
     "output_type": "execute_result"
    }
   ],
   "source": [
    "trainX[0]"
   ]
  },
  {
   "cell_type": "code",
   "execution_count": 4,
   "metadata": {},
   "outputs": [
    {
     "data": {
      "text/plain": [
       "(60000,)"
      ]
     },
     "execution_count": 4,
     "metadata": {},
     "output_type": "execute_result"
    }
   ],
   "source": [
    "trainY.shape"
   ]
  },
  {
   "cell_type": "code",
   "execution_count": 5,
   "metadata": {},
   "outputs": [
    {
     "data": {
      "text/plain": [
       "(10000, 28, 28)"
      ]
     },
     "execution_count": 5,
     "metadata": {},
     "output_type": "execute_result"
    }
   ],
   "source": [
    "testX.shape"
   ]
  },
  {
   "cell_type": "code",
   "execution_count": 6,
   "metadata": {},
   "outputs": [
    {
     "data": {
      "text/plain": [
       "(10000,)"
      ]
     },
     "execution_count": 6,
     "metadata": {},
     "output_type": "execute_result"
    }
   ],
   "source": [
    "testY.shape"
   ]
  },
  {
   "cell_type": "code",
   "execution_count": 12,
   "metadata": {},
   "outputs": [
    {
     "data": {
      "text/plain": [
       "<matplotlib.image.AxesImage at 0x13f54401148>"
      ]
     },
     "execution_count": 12,
     "metadata": {},
     "output_type": "execute_result"
    },
    {
     "data": {
      "image/png": "[encoded data removed]",
      "text/plain": [
       "<Figure size 432x288 with 1 Axes>"
      ]
     },
     "metadata": {
      "needs_background": "light"
     },
     "output_type": "display_data"
    }
   ],
   "source": [
    "plt.imshow(trainX[0])"
   ]
  },
  {
   "cell_type": "code",
   "execution_count": 16,
   "metadata": {},
   "outputs": [
    {
     "data": {
      "text/plain": [
       "<matplotlib.image.AxesImage at 0x13f54656c88>"
      ]
     },
     "execution_count": 16,
     "metadata": {},
     "output_type": "execute_result"
    },
    {
     "data": {
      "image/png": "[encoded data removed]",
      "text/plain": [
       "<Figure size 432x288 with 1 Axes>"
      ]
     },
     "metadata": {
      "needs_background": "light"
     },
     "output_type": "display_data"
    }
   ],
   "source": [
    "plt.imshow(testX[600])"
   ]
  },
  {
   "cell_type": "markdown",
   "metadata": {},
   "source": [
    "# Task No 3: Apply on hot encosing, float conversion and normalization"
   ]
  },
  {
   "cell_type": "markdown",
   "metadata": {},
   "source": [
    "one hot encodder is used to convert categorical data into 0 and 1, as this is image, we can not apply this technique on it as its not a dataframe. we can only apply float conversion and normalization"
   ]
  },
  {
   "cell_type": "code",
   "execution_count": 21,
   "metadata": {},
   "outputs": [],
   "source": [
    "trainX=trainX.astype('float32')\n",
    "testX=testX.astype('float32')"
   ]
  },
  {
   "cell_type": "code",
   "execution_count": 22,
   "metadata": {},
   "outputs": [],
   "source": [
    "trainX=trainX/255.0\n",
    "testX=testX/255.0"
   ]
  },
  {
   "cell_type": "markdown",
   "metadata": {},
   "source": [
    "# Task No 4: Define Model"
   ]
  },
  {
   "cell_type": "code",
   "execution_count": 25,
   "metadata": {},
   "outputs": [],
   "source": [
    "model= tf.keras.Sequential([tf.keras.layers.Flatten(),\n",
    "                           tf.keras.layers.Dense(128, activation='relu'),\n",
    "                           tf.keras.layers.Dense(10, activation='softmax')])"
   ]
  },
  {
   "cell_type": "markdown",
   "metadata": {},
   "source": [
    "# Task No 5: set Parameters"
   ]
  },
  {
   "cell_type": "code",
   "execution_count": 26,
   "metadata": {},
   "outputs": [],
   "source": [
    "model.compile(optimizer='adam', loss='sparse_categorical_crossentropy',metrics=['accuracy'])"
   ]
  },
  {
   "cell_type": "markdown",
   "metadata": {},
   "source": [
    "# Task No 6: Run model"
   ]
  },
  {
   "cell_type": "code",
   "execution_count": 38,
   "metadata": {},
   "outputs": [
    {
     "name": "stdout",
     "output_type": "stream",
     "text": [
      "Train on 60000 samples, validate on 10000 samples\n",
      "Epoch 1/20\n",
      "60000/60000 [==============================] - 3s 58us/sample - loss: 0.0050 - accuracy: 0.9984 - val_loss: 0.1520 - val_accuracy: 0.9760\n",
      "Epoch 2/20\n",
      "60000/60000 [==============================] - 4s 60us/sample - loss: 0.0023 - accuracy: 0.9994 - val_loss: 0.1575 - val_accuracy: 0.9753\n",
      "Epoch 3/20\n",
      "60000/60000 [==============================] - 3s 55us/sample - loss: 0.0039 - accuracy: 0.9989 - val_loss: 0.1496 - val_accuracy: 0.9757\n",
      "Epoch 4/20\n",
      "60000/60000 [==============================] - 4s 59us/sample - loss: 0.0027 - accuracy: 0.9991 - val_loss: 0.1650 - val_accuracy: 0.9744\n",
      "Epoch 5/20\n",
      "60000/60000 [==============================] - 4s 63us/sample - loss: 0.0038 - accuracy: 0.9987 - val_loss: 0.1471 - val_accuracy: 0.9770\n",
      "Epoch 6/20\n",
      "60000/60000 [==============================] - 3s 56us/sample - loss: 0.0030 - accuracy: 0.9991 - val_loss: 0.1823 - val_accuracy: 0.9750\n",
      "Epoch 7/20\n",
      "60000/60000 [==============================] - 4s 61us/sample - loss: 0.0027 - accuracy: 0.9992 - val_loss: 0.1678 - val_accuracy: 0.9737\n",
      "Epoch 8/20\n",
      "60000/60000 [==============================] - 4s 63us/sample - loss: 0.0042 - accuracy: 0.9986 - val_loss: 0.1645 - val_accuracy: 0.9770\n",
      "Epoch 9/20\n",
      "60000/60000 [==============================] - 4s 68us/sample - loss: 0.0011 - accuracy: 0.9998 - val_loss: 0.1543 - val_accuracy: 0.9779\n",
      "Epoch 10/20\n",
      "60000/60000 [==============================] - 4s 64us/sample - loss: 0.0046 - accuracy: 0.9985 - val_loss: 0.1678 - val_accuracy: 0.9755\n",
      "Epoch 11/20\n",
      "60000/60000 [==============================] - 4s 65us/sample - loss: 0.0026 - accuracy: 0.9993 - val_loss: 0.2081 - val_accuracy: 0.9726\n",
      "Epoch 12/20\n",
      "60000/60000 [==============================] - 3s 58us/sample - loss: 0.0023 - accuracy: 0.9993 - val_loss: 0.1698 - val_accuracy: 0.9758\n",
      "Epoch 13/20\n",
      "60000/60000 [==============================] - 4s 63us/sample - loss: 0.0041 - accuracy: 0.9989 - val_loss: 0.1825 - val_accuracy: 0.9753\n",
      "Epoch 14/20\n",
      "60000/60000 [==============================] - 4s 64us/sample - loss: 0.0026 - accuracy: 0.9990 - val_loss: 0.1871 - val_accuracy: 0.9746\n",
      "Epoch 15/20\n",
      "60000/60000 [==============================] - 4s 59us/sample - loss: 0.0010 - accuracy: 0.9998 - val_loss: 0.1774 - val_accuracy: 0.9757\n",
      "Epoch 16/20\n",
      "60000/60000 [==============================] - 4s 59us/sample - loss: 0.0036 - accuracy: 0.9990 - val_loss: 0.1979 - val_accuracy: 0.9743\n",
      "Epoch 17/20\n",
      "60000/60000 [==============================] - 4s 59us/sample - loss: 0.0023 - accuracy: 0.9993 - val_loss: 0.1836 - val_accuracy: 0.9762\n",
      "Epoch 18/20\n",
      "60000/60000 [==============================] - 4s 64us/sample - loss: 0.0036 - accuracy: 0.9987 - val_loss: 0.1939 - val_accuracy: 0.9753\n",
      "Epoch 19/20\n",
      "60000/60000 [==============================] - 4s 59us/sample - loss: 0.0028 - accuracy: 0.9990 - val_loss: 0.2053 - val_accuracy: 0.9734\n",
      "Epoch 20/20\n",
      "60000/60000 [==============================] - 4s 59us/sample - loss: 0.0023 - accuracy: 0.9994 - val_loss: 0.2035 - val_accuracy: 0.9750\n"
     ]
    }
   ],
   "source": [
    "history=model.fit(trainX, trainY, epochs=20, validation_data=(testX,testY))"
   ]
  },
  {
   "cell_type": "code",
   "execution_count": 39,
   "metadata": {},
   "outputs": [
    {
     "name": "stdout",
     "output_type": "stream",
     "text": [
      "10000/10000 [==============================] - 0s 35us/sample - loss: 0.2035 - accuracy: 0.9750\n"
     ]
    },
    {
     "data": {
      "text/plain": [
       "[0.2034617082988576, 0.975]"
      ]
     },
     "execution_count": 39,
     "metadata": {},
     "output_type": "execute_result"
    }
   ],
   "source": [
    "model.evaluate(testX,testY)"
   ]
  },
  {
   "cell_type": "code",
   "execution_count": 45,
   "metadata": {},
   "outputs": [
    {
     "data": {
      "text/plain": [
       "<function matplotlib.pyplot.show(*args, **kw)>"
      ]
     },
     "execution_count": 45,
     "metadata": {},
     "output_type": "execute_result"
    },
    {
     "data": {
      "image/png": "[encoded data removed]",
      "text/plain": [
       "<Figure size 432x288 with 1 Axes>"
      ]
     },
     "metadata": {
      "needs_background": "light"
     },
     "output_type": "display_data"
    }
   ],
   "source": [
    "plt.plot(history.history['loss'])\n",
    "plt.title(\"model loss\")\n",
    "plt.xlabel('epoch')\n",
    "plt.ylabel(\"loss\")\n",
    "plt.legend(['training loss'], loc='upper left')\n",
    "plt.show"
   ]
  },
  {
   "cell_type": "code",
   "execution_count": 47,
   "metadata": {},
   "outputs": [
    {
     "data": {
      "image/png": "[encoded data removed]",
      "text/plain": [
       "<Figure size 432x288 with 1 Axes>"
      ]
     },
     "metadata": {
      "needs_background": "light"
     },
     "output_type": "display_data"
    }
   ],
   "source": [
    "plt.plot(history.history['accuracy'])\n",
    "plt.title(\"model accuracy\")\n",
    "plt.xlabel('epoch')\n",
    "plt.ylabel(\"accuracy\")\n",
    "plt.legend(['training accuracy'], loc='upper left')\n",
    "plt.show()"
   ]
  },
  {
   "cell_type": "code",
   "execution_count": 49,
   "metadata": {},
   "outputs": [
    {
     "data": {
      "image/png": "[encoded data removed]",
      "text/plain": [
       "<Figure size 432x288 with 1 Axes>"
      ]
     },
     "metadata": {
      "needs_background": "light"
     },
     "output_type": "display_data"
    },
    {
     "data": {
      "image/png": "[encoded data removed]",
      "text/plain": [
       "<Figure size 432x288 with 1 Axes>"
      ]
     },
     "metadata": {
      "needs_background": "light"
     },
     "output_type": "display_data"
    },
    {
     "data": {
      "text/plain": [
       "<Figure size 432x288 with 0 Axes>"
      ]
     },
     "metadata": {},
     "output_type": "display_data"
    }
   ],
   "source": [
    "history_dict=history.history\n",
    "\n",
    "loss_values=history_dict['loss']\n",
    "val_loss_values=history_dict['val_loss']\n",
    "epochs = range(1, len(loss_values)+1)\n",
    "plt.plot(epochs, loss_values, 'bo', label='Training Loss')\n",
    "plt.plot(epochs, val_loss_values, 'b', label='Validation Loss')\n",
    "plt.title('Training and Validation Loss')\n",
    "plt.xlabel('Epochs')\n",
    "plt.ylabel('Loss')\n",
    "plt.legend()\n",
    "plt.show()\n",
    "plt.clf()\n",
    "\n",
    "acc_values=history_dict['accuracy']\n",
    "val_acc_values=history_dict['val_accuracy']\n",
    "plt.plot(epochs, acc_values, 'bo', label='Training Accuracy')\n",
    "plt.plot(epochs, val_acc_values, 'b', label='Validation Accuracy')\n",
    "plt.title('Training and Validation accuracy')\n",
    "plt.xlabel('Epochs')\n",
    "plt.ylabel('Accuracy')\n",
    "plt.legend()\n",
    "plt.show()\n",
    "plt.clf()"
   ]
  },
  {
   "cell_type": "markdown",
   "metadata": {},
   "source": [
    "# Task No 7: Repeat Step 4 again and again"
   ]
  },
  {
   "cell_type": "code",
   "execution_count": 30,
   "metadata": {},
   "outputs": [
    {
     "name": "stdout",
     "output_type": "stream",
     "text": [
      "Train on 60000 samples\n",
      "Epoch 1/20\n",
      "60000/60000 [==============================] - 3s 56us/sample - loss: 11665.8964 - accuracy: 5.0000e-05\n",
      "Epoch 2/20\n",
      "60000/60000 [==============================] - 3s 49us/sample - loss: 29273.8880 - accuracy: 0.0000e+00\n",
      "Epoch 3/20\n",
      "60000/60000 [==============================] - 3s 54us/sample - loss: 39397.4796 - accuracy: 0.0000e+00\n",
      "Epoch 4/20\n",
      "60000/60000 [==============================] - 3s 52us/sample - loss: 45098.5300 - accuracy: 0.0000e+00\n",
      "Epoch 5/20\n",
      "60000/60000 [==============================] - 3s 49us/sample - loss: 48184.9852 - accuracy: 0.0000e+00\n",
      "Epoch 6/20\n",
      "60000/60000 [==============================] - 3s 51us/sample - loss: 52784.9153 - accuracy: 0.0000e+00\n",
      "Epoch 7/20\n",
      "60000/60000 [==============================] - 3s 48us/sample - loss: 58852.4888 - accuracy: 0.0000e+00\n",
      "Epoch 8/20\n",
      "60000/60000 [==============================] - 3s 53us/sample - loss: 64586.3961 - accuracy: 0.0000e+00\n",
      "Epoch 9/20\n",
      "60000/60000 [==============================] - 3s 56us/sample - loss: 69985.0080 - accuracy: 0.0000e+00\n",
      "Epoch 10/20\n",
      "60000/60000 [==============================] - 3s 53us/sample - loss: 74539.0425 - accuracy: 0.0000e+00\n",
      "Epoch 11/20\n",
      "60000/60000 [==============================] - 3s 55us/sample - loss: 78612.5924 - accuracy: 0.0000e+00\n",
      "Epoch 12/20\n",
      "60000/60000 [==============================] - 3s 50us/sample - loss: 82474.4279 - accuracy: 0.0000e+00\n",
      "Epoch 13/20\n",
      "60000/60000 [==============================] - 3s 49us/sample - loss: 85757.3883 - accuracy: 0.0000e+00\n",
      "Epoch 14/20\n",
      "60000/60000 [==============================] - 3s 54us/sample - loss: 88214.4609 - accuracy: 0.0000e+00\n",
      "Epoch 15/20\n",
      "60000/60000 [==============================] - 3s 49us/sample - loss: 90605.0821 - accuracy: 0.0000e+00\n",
      "Epoch 16/20\n",
      "60000/60000 [==============================] - 3s 49us/sample - loss: 91956.7541 - accuracy: 0.0000e+00\n",
      "Epoch 17/20\n",
      "60000/60000 [==============================] - 3s 50us/sample - loss: 93051.3896 - accuracy: 0.0000e+00\n",
      "Epoch 18/20\n",
      "60000/60000 [==============================] - 3s 53us/sample - loss: 93606.9541 - accuracy: 0.0000e+00\n",
      "Epoch 19/20\n",
      "60000/60000 [==============================] - 3s 54us/sample - loss: 93588.3069 - accuracy: 0.0000e+00\n",
      "Epoch 20/20\n",
      "60000/60000 [==============================] - 3s 49us/sample - loss: 93172.4401 - accuracy: 0.0000e+00\n"
     ]
    },
    {
     "data": {
      "text/plain": [
       "<tensorflow.python.keras.callbacks.History at 0x13f5a76b788>"
      ]
     },
     "execution_count": 30,
     "metadata": {},
     "output_type": "execute_result"
    }
   ],
   "source": [
    "model= tf.keras.Sequential([tf.keras.layers.Flatten(),\n",
    "                           tf.keras.layers.Dense(32, activation='relu'),\n",
    "                           tf.keras.layers.Dense(10, activation='softmax')])\n",
    "\n",
    "model.compile(optimizer='adam', loss='categorical_crossentropy',metrics=['accuracy'])\n",
    "\n",
    "model.fit(trainX, trainY, epochs=20)"
   ]
  },
  {
   "cell_type": "code",
   "execution_count": 31,
   "metadata": {},
   "outputs": [
    {
     "name": "stdout",
     "output_type": "stream",
     "text": [
      "10000/10000 [==============================] - 0s 42us/sample - loss: 93828.7910 - accuracy: 0.0000e+00\n"
     ]
    },
    {
     "data": {
      "text/plain": [
       "[93828.79105, 0.0]"
      ]
     },
     "execution_count": 31,
     "metadata": {},
     "output_type": "execute_result"
    }
   ],
   "source": [
    "model.evaluate(testX,testY)"
   ]
  },
  {
   "cell_type": "markdown",
   "metadata": {},
   "source": [
    "# Result: zero accuracy by changing sparse_categorical_crossentropy to just categorical_crossentropy and by reducing nodes from 128 to 32"
   ]
  },
  {
   "cell_type": "code",
   "execution_count": 32,
   "metadata": {},
   "outputs": [
    {
     "name": "stdout",
     "output_type": "stream",
     "text": [
      "Train on 60000 samples\n",
      "Epoch 1/20\n",
      "60000/60000 [==============================] - 3s 53us/sample - loss: 0.3529 - accuracy: 0.9020\n",
      "Epoch 2/20\n",
      "60000/60000 [==============================] - 3s 47us/sample - loss: 0.1940 - accuracy: 0.9442\n",
      "Epoch 3/20\n",
      "60000/60000 [==============================] - 3s 47us/sample - loss: 0.1554 - accuracy: 0.9542\n",
      "Epoch 4/20\n",
      "60000/60000 [==============================] - 3s 48us/sample - loss: 0.1329 - accuracy: 0.9607\n",
      "Epoch 5/20\n",
      "60000/60000 [==============================] - 3s 55us/sample - loss: 0.1176 - accuracy: 0.9648\n",
      "Epoch 6/20\n",
      "60000/60000 [==============================] - 4s 58us/sample - loss: 0.1050 - accuracy: 0.9681\n",
      "Epoch 7/20\n",
      "60000/60000 [==============================] - 3s 52us/sample - loss: 0.0954 - accuracy: 0.9710\n",
      "Epoch 8/20\n",
      "60000/60000 [==============================] - 3s 51us/sample - loss: 0.0877 - accuracy: 0.9735\n",
      "Epoch 9/20\n",
      "60000/60000 [==============================] - 3s 48us/sample - loss: 0.0816 - accuracy: 0.9747\n",
      "Epoch 10/20\n",
      "60000/60000 [==============================] - 3s 51us/sample - loss: 0.0769 - accuracy: 0.9766\n",
      "Epoch 11/20\n",
      "60000/60000 [==============================] - 3s 51us/sample - loss: 0.0705 - accuracy: 0.9783\n",
      "Epoch 12/20\n",
      "60000/60000 [==============================] - 3s 48us/sample - loss: 0.0674 - accuracy: 0.9786\n",
      "Epoch 13/20\n",
      "60000/60000 [==============================] - 3s 49us/sample - loss: 0.0632 - accuracy: 0.9802\n",
      "Epoch 14/20\n",
      "60000/60000 [==============================] - 3s 48us/sample - loss: 0.0601 - accuracy: 0.9816\n",
      "Epoch 15/20\n",
      "60000/60000 [==============================] - 3s 52us/sample - loss: 0.0566 - accuracy: 0.9818\n",
      "Epoch 16/20\n",
      "60000/60000 [==============================] - 3s 53us/sample - loss: 0.0530 - accuracy: 0.9835\n",
      "Epoch 17/20\n",
      "60000/60000 [==============================] - 3s 48us/sample - loss: 0.0502 - accuracy: 0.9846\n",
      "Epoch 18/20\n",
      "60000/60000 [==============================] - 3s 48us/sample - loss: 0.0476 - accuracy: 0.9851\n",
      "Epoch 19/20\n",
      "60000/60000 [==============================] - 3s 48us/sample - loss: 0.0453 - accuracy: 0.9862\n",
      "Epoch 20/20\n",
      "60000/60000 [==============================] - 3s 49us/sample - loss: 0.0438 - accuracy: 0.9858\n",
      "10000/10000 [==============================] - 0s 43us/sample - loss: 0.1342 - accuracy: 0.9665\n"
     ]
    },
    {
     "data": {
      "text/plain": [
       "[0.1342142194809392, 0.9665]"
      ]
     },
     "execution_count": 32,
     "metadata": {},
     "output_type": "execute_result"
    }
   ],
   "source": [
    "model= tf.keras.Sequential([tf.keras.layers.Flatten(),\n",
    "                           tf.keras.layers.Dense(32, activation='relu'),\n",
    "                           tf.keras.layers.Dense(10, activation='softmax')])\n",
    "\n",
    "model.compile(optimizer='adam', loss='sparse_categorical_crossentropy',metrics=['accuracy'])\n",
    "\n",
    "model.fit(trainX, trainY, epochs=20)\n",
    "\n",
    "model.evaluate(testX,testY)"
   ]
  },
  {
   "cell_type": "markdown",
   "metadata": {},
   "source": [
    "# Result: by reducing to 32 filters from 128, result also reduced to 97% from 98%"
   ]
  },
  {
   "cell_type": "code",
   "execution_count": 33,
   "metadata": {},
   "outputs": [
    {
     "name": "stdout",
     "output_type": "stream",
     "text": [
      "Train on 60000 samples\n",
      "Epoch 1/20\n",
      "60000/60000 [==============================] - 4s 65us/sample - loss: 0.3016 - accuracy: 0.9153\n",
      "Epoch 2/20\n",
      "60000/60000 [==============================] - 3s 55us/sample - loss: 0.1443 - accuracy: 0.9581\n",
      "Epoch 3/20\n",
      "60000/60000 [==============================] - 3s 55us/sample - loss: 0.1042 - accuracy: 0.9683\n",
      "Epoch 4/20\n",
      "60000/60000 [==============================] - 3s 56us/sample - loss: 0.0814 - accuracy: 0.9752\n",
      "Epoch 5/20\n",
      "60000/60000 [==============================] - 3s 56us/sample - loss: 0.0664 - accuracy: 0.9793\n",
      "Epoch 6/20\n",
      "60000/60000 [==============================] - 4s 59us/sample - loss: 0.0565 - accuracy: 0.9822\n",
      "Epoch 7/20\n",
      "60000/60000 [==============================] - 3s 54us/sample - loss: 0.0490 - accuracy: 0.9846\n",
      "Epoch 8/20\n",
      "60000/60000 [==============================] - 3s 55us/sample - loss: 0.0419 - accuracy: 0.9872\n",
      "Epoch 9/20\n",
      "60000/60000 [==============================] - 3s 54us/sample - loss: 0.0359 - accuracy: 0.9886\n",
      "Epoch 10/20\n",
      "60000/60000 [==============================] - 3s 56us/sample - loss: 0.0312 - accuracy: 0.9902\n",
      "Epoch 11/20\n",
      "60000/60000 [==============================] - 3s 58us/sample - loss: 0.0265 - accuracy: 0.9920\n",
      "Epoch 12/20\n",
      "60000/60000 [==============================] - 3s 52us/sample - loss: 0.0243 - accuracy: 0.9924\n",
      "Epoch 13/20\n",
      "60000/60000 [==============================] - 3s 52us/sample - loss: 0.0207 - accuracy: 0.9937\n",
      "Epoch 14/20\n",
      "60000/60000 [==============================] - 3s 53us/sample - loss: 0.0196 - accuracy: 0.9937\n",
      "Epoch 15/20\n",
      "60000/60000 [==============================] - 3s 52us/sample - loss: 0.0167 - accuracy: 0.9947\n",
      "Epoch 16/20\n",
      "60000/60000 [==============================] - 4s 59us/sample - loss: 0.0149 - accuracy: 0.9959\n",
      "Epoch 17/20\n",
      "60000/60000 [==============================] - 3s 53us/sample - loss: 0.0129 - accuracy: 0.9962\n",
      "Epoch 18/20\n",
      "60000/60000 [==============================] - 3s 53us/sample - loss: 0.0108 - accuracy: 0.9968\n",
      "Epoch 19/20\n",
      "60000/60000 [==============================] - 3s 52us/sample - loss: 0.0111 - accuracy: 0.9968\n",
      "Epoch 20/20\n",
      "60000/60000 [==============================] - 3s 52us/sample - loss: 0.0102 - accuracy: 0.9970\n",
      "10000/10000 [==============================] - 0s 41us/sample - loss: 0.1200 - accuracy: 0.9745\n"
     ]
    },
    {
     "data": {
      "text/plain": [
       "[0.1199531145590543, 0.9745]"
      ]
     },
     "execution_count": 33,
     "metadata": {},
     "output_type": "execute_result"
    }
   ],
   "source": [
    "model= tf.keras.Sequential([tf.keras.layers.Flatten(),\n",
    "                           tf.keras.layers.Dense(64, activation='relu'),\n",
    "                           tf.keras.layers.Dense(10, activation='softmax')])\n",
    "\n",
    "model.compile(optimizer='adam', loss='sparse_categorical_crossentropy',metrics=['accuracy'])\n",
    "\n",
    "model.fit(trainX, trainY, epochs=20)\n",
    "\n",
    "model.evaluate(testX,testY)"
   ]
  },
  {
   "cell_type": "markdown",
   "metadata": {},
   "source": [
    "# Result: by reducing to 64 filters from 128, result also reduced to 97.45% from 97.77%"
   ]
  },
  {
   "cell_type": "code",
   "execution_count": 51,
   "metadata": {},
   "outputs": [
    {
     "name": "stdout",
     "output_type": "stream",
     "text": [
      "Train on 60000 samples, validate on 10000 samples\n",
      "Epoch 1/16\n",
      "60000/60000 [==============================] - 6s 95us/sample - loss: 0.2253 - accuracy: 0.9342 - val_loss: 0.1148 - val_accuracy: 0.9669\n",
      "Epoch 2/16\n",
      "60000/60000 [==============================] - 6s 95us/sample - loss: 0.0933 - accuracy: 0.9719 - val_loss: 0.0865 - val_accuracy: 0.9736\n",
      "Epoch 3/16\n",
      "60000/60000 [==============================] - 5s 91us/sample - loss: 0.0603 - accuracy: 0.9809 - val_loss: 0.0770 - val_accuracy: 0.9746\n",
      "Epoch 4/16\n",
      "60000/60000 [==============================] - 5s 88us/sample - loss: 0.0439 - accuracy: 0.9857 - val_loss: 0.0682 - val_accuracy: 0.9805\n",
      "Epoch 5/16\n",
      "60000/60000 [==============================] - 6s 93us/sample - loss: 0.0331 - accuracy: 0.9894 - val_loss: 0.0732 - val_accuracy: 0.9785\n",
      "Epoch 6/16\n",
      "60000/60000 [==============================] - 5s 91us/sample - loss: 0.0245 - accuracy: 0.9923 - val_loss: 0.0708 - val_accuracy: 0.9781\n",
      "Epoch 7/16\n",
      "60000/60000 [==============================] - 5s 91us/sample - loss: 0.0184 - accuracy: 0.9942 - val_loss: 0.0729 - val_accuracy: 0.9799\n",
      "Epoch 8/16\n",
      "60000/60000 [==============================] - 6s 92us/sample - loss: 0.0154 - accuracy: 0.9954 - val_loss: 0.0765 - val_accuracy: 0.9791\n",
      "Epoch 9/16\n",
      "60000/60000 [==============================] - 5s 89us/sample - loss: 0.0131 - accuracy: 0.9956 - val_loss: 0.0938 - val_accuracy: 0.9758\n",
      "Epoch 10/16\n",
      "60000/60000 [==============================] - 5s 87us/sample - loss: 0.0113 - accuracy: 0.9963 - val_loss: 0.0848 - val_accuracy: 0.9813\n",
      "Epoch 11/16\n",
      "60000/60000 [==============================] - 6s 96us/sample - loss: 0.0097 - accuracy: 0.9971 - val_loss: 0.0836 - val_accuracy: 0.9802\n",
      "Epoch 12/16\n",
      "60000/60000 [==============================] - 5s 88us/sample - loss: 0.0093 - accuracy: 0.9970 - val_loss: 0.0894 - val_accuracy: 0.9785\n",
      "Epoch 13/16\n",
      "60000/60000 [==============================] - 6s 101us/sample - loss: 0.0087 - accuracy: 0.9970 - val_loss: 0.0970 - val_accuracy: 0.9781\n",
      "Epoch 14/16\n",
      "60000/60000 [==============================] - 6s 100us/sample - loss: 0.0062 - accuracy: 0.9982 - val_loss: 0.1001 - val_accuracy: 0.9769\n",
      "Epoch 15/16\n",
      "60000/60000 [==============================] - 6s 95us/sample - loss: 0.0072 - accuracy: 0.9976 - val_loss: 0.0972 - val_accuracy: 0.9794\n",
      "Epoch 16/16\n",
      "60000/60000 [==============================] - 6s 92us/sample - loss: 0.0050 - accuracy: 0.9986 - val_loss: 0.0885 - val_accuracy: 0.9815\n"
     ]
    },
    {
     "data": {
      "text/plain": [
       "<tensorflow.python.keras.callbacks.History at 0x13f502bb288>"
      ]
     },
     "execution_count": 51,
     "metadata": {},
     "output_type": "execute_result"
    }
   ],
   "source": [
    "model= tf.keras.Sequential([tf.keras.layers.Flatten(),\n",
    "                           tf.keras.layers.Dense(256, activation='relu'),\n",
    "                           tf.keras.layers.Dense(10, activation='softmax')])\n",
    "\n",
    "model.compile(optimizer='adam', loss='sparse_categorical_crossentropy',metrics=['accuracy'])\n",
    "\n",
    "model.fit(trainX, trainY, epochs=16, validation_data=(testX,testY))"
   ]
  },
  {
   "cell_type": "code",
   "execution_count": 52,
   "metadata": {},
   "outputs": [
    {
     "data": {
      "image/png": "[encoded data removed]",
      "text/plain": [
       "<Figure size 432x288 with 1 Axes>"
      ]
     },
     "metadata": {
      "needs_background": "light"
     },
     "output_type": "display_data"
    },
    {
     "data": {
      "image/png": "[encoded data removed]",
      "text/plain": [
       "<Figure size 432x288 with 1 Axes>"
      ]
     },
     "metadata": {
      "needs_background": "light"
     },
     "output_type": "display_data"
    },
    {
     "data": {
      "text/plain": [
       "<Figure size 432x288 with 0 Axes>"
      ]
     },
     "metadata": {},
     "output_type": "display_data"
    }
   ],
   "source": [
    "history_dict=history.history\n",
    "\n",
    "loss_values=history_dict['loss']\n",
    "val_loss_values=history_dict['val_loss']\n",
    "epochs = range(1, len(loss_values)+1)\n",
    "plt.plot(epochs, loss_values, 'bo', label='Training Loss')\n",
    "plt.plot(epochs, val_loss_values, 'b', label='Validation Loss')\n",
    "plt.title('Training and Validation Loss')\n",
    "plt.xlabel('Epochs')\n",
    "plt.ylabel('Loss')\n",
    "plt.legend()\n",
    "plt.show()\n",
    "plt.clf()\n",
    "\n",
    "acc_values=history_dict['accuracy']\n",
    "val_acc_values=history_dict['val_accuracy']\n",
    "plt.plot(epochs, acc_values, 'bo', label='Training Accuracy')\n",
    "plt.plot(epochs, val_acc_values, 'b', label='Validation Accuracy')\n",
    "plt.title('Training and Validation accuracy')\n",
    "plt.xlabel('Epochs')\n",
    "plt.ylabel('Accuracy')\n",
    "plt.legend()\n",
    "plt.show()\n",
    "plt.clf()"
   ]
  },
  {
   "cell_type": "markdown",
   "metadata": {},
   "source": [
    "# Final Remarks: after making changes in the model, the result is that we can increase the accuracy of model by increasing number of filters/ nodes and reducing the epochs from 20 to 16, as its the the point from either way, accuracy is decreasing."
   ]
  },
  {
   "cell_type": "code",
   "execution_count": null,
   "metadata": {},
   "outputs": [],
   "source": []
  }
 ],
 "metadata": {
  "kernelspec": {
   "display_name": "Python 3",
   "language": "python",
   "name": "python3"
  },
  "language_info": {
   "codemirror_mode": {
    "name": "ipython",
    "version": 3
   },
   "file_extension": ".py",
   "mimetype": "text/x-python",
   "name": "python",
   "nbconvert_exporter": "python",
   "pygments_lexer": "ipython3",
   "version": "3.7.7"
  }
 },
 "nbformat": 4,
 "nbformat_minor": 4
}
