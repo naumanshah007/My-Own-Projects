{
 "cells": [
  {
   "cell_type": "code",
   "execution_count": 1,
   "metadata": {},
   "outputs": [],
   "source": [
    "import tensorflow as tf\n",
    "import os"
   ]
  },
  {
   "cell_type": "code",
   "execution_count": 2,
   "metadata": {},
   "outputs": [
    {
     "data": {
      "text/plain": [
       "'C:\\\\Users\\\\Lenovo\\\\Desktop\\\\dataset\\\\horse-or-human'"
      ]
     },
     "execution_count": 2,
     "metadata": {},
     "output_type": "execute_result"
    }
   ],
   "source": [
    "base_dir=r\"C:\\Users\\Lenovo\\Desktop\\dataset\\horse-or-human\"\n",
    "base_dir"
   ]
  },
  {
   "cell_type": "code",
   "execution_count": 3,
   "metadata": {},
   "outputs": [],
   "source": [
    "train_horse=os.path.join(base_dir,'train','horse')\n",
    "train_human=os.path.join(base_dir,'train','human')\n",
    "validation_horse=os.path.join(base_dir,'validation','horse')\n",
    "validation_human=os.path.join(base_dir,'validation','human')\n",
    "train_dir=os.path.join(base_dir,'train')\n",
    "validation_dir=os.path.join(base_dir,'validation')"
   ]
  },
  {
   "cell_type": "code",
   "execution_count": 4,
   "metadata": {},
   "outputs": [],
   "source": [
    "model=tf.keras.models.Sequential([\n",
    "    tf.keras.layers.Conv2D(32,(3,3),activation='relu',input_shape=(150,150,3)),\n",
    "    tf.keras.layers.MaxPooling2D(2,2),\n",
    "    tf.keras.layers.Conv2D(64,(3,3),activation='relu'),\n",
    "    tf.keras.layers.MaxPooling2D(2,2),\n",
    "    tf.keras.layers.Conv2D(64,(3,3),activation='relu'),\n",
    "    tf.keras.layers.MaxPooling2D(2,2),\n",
    "    tf.keras.layers.Conv2D(64,(3,3),activation='relu'),\n",
    "    tf.keras.layers.MaxPooling2D(2,2),\n",
    "    tf.keras.layers.Flatten(),\n",
    "    tf.keras.layers.Dense(512,activation='relu'),\n",
    "    tf.keras.layers.Dense(1,activation='sigmoid')\n",
    "])"
   ]
  },
  {
   "cell_type": "code",
   "execution_count": 5,
   "metadata": {},
   "outputs": [],
   "source": [
    "from tensorflow.keras.optimizers import RMSprop\n",
    "\n",
    "model.compile(loss='binary_crossentropy',\n",
    "             optimizer=RMSprop(lr=1e-4),\n",
    "             metrics=['accuracy'])"
   ]
  },
  {
   "cell_type": "code",
   "execution_count": 6,
   "metadata": {},
   "outputs": [],
   "source": [
    "from tensorflow.keras.preprocessing.image import ImageDataGenerator\n",
    "\n",
    "train_datagen=ImageDataGenerator(rescale=1./255,\n",
    "                                rotation_range=40,\n",
    "                                width_shift_range=.2,\n",
    "                                height_shift_range=.2,\n",
    "                                shear_range=.2,\n",
    "                                zoom_range=.2,\n",
    "                                horizontal_flip=True,\n",
    "                                fill_mode='nearest')\n",
    "\n",
    "test_datagen=ImageDataGenerator(rescale=1./255)"
   ]
  },
  {
   "cell_type": "code",
   "execution_count": 7,
   "metadata": {},
   "outputs": [
    {
     "name": "stdout",
     "output_type": "stream",
     "text": [
      "Found 1027 images belonging to 2 classes.\n"
     ]
    }
   ],
   "source": [
    "train_generator=train_datagen.flow_from_directory(train_dir,\n",
    "                                                 target_size=(150,150),\n",
    "                                                 batch_size=100,\n",
    "                                                 class_mode='binary')"
   ]
  },
  {
   "cell_type": "code",
   "execution_count": 8,
   "metadata": {},
   "outputs": [
    {
     "name": "stdout",
     "output_type": "stream",
     "text": [
      "Found 256 images belonging to 2 classes.\n"
     ]
    }
   ],
   "source": [
    "test_generator=test_datagen.flow_from_directory(validation_dir,\n",
    "                                               target_size=(150,150),\n",
    "                                               batch_size=100,\n",
    "                                               class_mode='binary')"
   ]
  },
  {
   "cell_type": "code",
   "execution_count": 9,
   "metadata": {},
   "outputs": [
    {
     "name": "stdout",
     "output_type": "stream",
     "text": [
      "WARNING:tensorflow:sample_weight modes were coerced from\n",
      "  ...\n",
      "    to  \n",
      "  ['...']\n",
      "WARNING:tensorflow:sample_weight modes were coerced from\n",
      "  ...\n",
      "    to  \n",
      "  ['...']\n",
      "Train for 11 steps, validate for 3 steps\n",
      "Epoch 1/10\n",
      "11/11 [==============================] - 34s 3s/step - loss: 0.6857 - accuracy: 0.5180 - val_loss: 0.6590 - val_accuracy: 0.5234\n",
      "Epoch 2/10\n",
      "11/11 [==============================] - 33s 3s/step - loss: 0.6642 - accuracy: 0.5784 - val_loss: 0.6280 - val_accuracy: 0.5391\n",
      "Epoch 3/10\n",
      "11/11 [==============================] - 37s 3s/step - loss: 0.6393 - accuracy: 0.6592 - val_loss: 0.5635 - val_accuracy: 0.6641\n",
      "Epoch 4/10\n",
      "11/11 [==============================] - 38s 3s/step - loss: 0.6104 - accuracy: 0.6796 - val_loss: 0.6244 - val_accuracy: 0.5781\n",
      "Epoch 5/10\n",
      "11/11 [==============================] - 36s 3s/step - loss: 0.5462 - accuracy: 0.7644 - val_loss: 0.3913 - val_accuracy: 0.8477\n",
      "Epoch 6/10\n",
      "11/11 [==============================] - 38s 3s/step - loss: 0.5487 - accuracy: 0.7235 - val_loss: 0.5423 - val_accuracy: 0.7227\n",
      "Epoch 7/10\n",
      "11/11 [==============================] - 36s 3s/step - loss: 0.5054 - accuracy: 0.7605 - val_loss: 0.7060 - val_accuracy: 0.6484\n",
      "Epoch 8/10\n",
      "11/11 [==============================] - 36s 3s/step - loss: 0.4978 - accuracy: 0.7770 - val_loss: 0.5947 - val_accuracy: 0.7305\n",
      "Epoch 9/10\n",
      "11/11 [==============================] - 36s 3s/step - loss: 0.4285 - accuracy: 0.8062 - val_loss: 0.5431 - val_accuracy: 0.7852\n",
      "Epoch 10/10\n",
      "11/11 [==============================] - 36s 3s/step - loss: 0.4624 - accuracy: 0.7887 - val_loss: 1.1387 - val_accuracy: 0.6055\n"
     ]
    }
   ],
   "source": [
    "history=model.fit(train_generator,\n",
    "                 epochs=10,\n",
    "                 validation_data=test_generator)"
   ]
  },
  {
   "cell_type": "code",
   "execution_count": null,
   "metadata": {},
   "outputs": [],
   "source": []
  }
 ],
 "metadata": {
  "kernelspec": {
   "display_name": "Python 3",
   "language": "python",
   "name": "python3"
  },
  "language_info": {
   "codemirror_mode": {
    "name": "ipython",
    "version": 3
   },
   "file_extension": ".py",
   "mimetype": "text/x-python",
   "name": "python",
   "nbconvert_exporter": "python",
   "pygments_lexer": "ipython3",
   "version": "3.7.7"
  }
 },
 "nbformat": 4,
 "nbformat_minor": 4
}
