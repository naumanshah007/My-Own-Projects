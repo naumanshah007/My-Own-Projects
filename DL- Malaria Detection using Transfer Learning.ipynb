{
 "cells": [
  {
   "cell_type": "code",
   "execution_count": 1,
   "metadata": {},
   "outputs": [],
   "source": [
    "import tensorflow as tf"
   ]
  },
  {
   "cell_type": "code",
   "execution_count": 2,
   "metadata": {},
   "outputs": [],
   "source": [
    "from tensorflow.keras.layers import Input,Dense,Flatten,Lambda,Conv2D\n",
    "from tensorflow.keras.models import Model,Sequential\n",
    "from tensorflow.keras.applications.vgg19 import VGG19\n",
    "from tensorflow.keras.applications.resnet50 import preprocess_input\n",
    "from tensorflow.keras.preprocessing import image\n",
    "from tensorflow.keras.preprocessing.image import load_img,ImageDataGenerator\n",
    "\n",
    "import numpy as np\n",
    "import pandas as pd\n",
    "import matplotlib.pyplot as plt\n",
    "from glob import glob\n"
   ]
  },
  {
   "cell_type": "code",
   "execution_count": 3,
   "metadata": {},
   "outputs": [
    {
     "name": "stdout",
     "output_type": "stream",
     "text": [
      "2.1.0\n"
     ]
    }
   ],
   "source": [
    "print(tf.__version__)"
   ]
  },
  {
   "cell_type": "code",
   "execution_count": 4,
   "metadata": {},
   "outputs": [],
   "source": [
    "image_size=[224,224]\n",
    "\n",
    "train_path=r\"C:\\Users\\Lenovo\\Downloads\\Dataset\\Train\"\n",
    "test_path=r\"C:\\Users\\Lenovo\\Downloads\\Dataset\\Test\""
   ]
  },
  {
   "cell_type": "code",
   "execution_count": 5,
   "metadata": {},
   "outputs": [],
   "source": [
    "vgg19=VGG19(input_shape=image_size+[3],weights='imagenet',include_top=False)"
   ]
  },
  {
   "cell_type": "code",
   "execution_count": 6,
   "metadata": {},
   "outputs": [
    {
     "name": "stdout",
     "output_type": "stream",
     "text": [
      "Model: \"vgg19\"\n",
      "_________________________________________________________________\n",
      "Layer (type)                 Output Shape              Param #   \n",
      "=================================================================\n",
      "input_1 (InputLayer)         [(None, 224, 224, 3)]     0         \n",
      "_________________________________________________________________\n",
      "block1_conv1 (Conv2D)        (None, 224, 224, 64)      1792      \n",
      "_________________________________________________________________\n",
      "block1_conv2 (Conv2D)        (None, 224, 224, 64)      36928     \n",
      "_________________________________________________________________\n",
      "block1_pool (MaxPooling2D)   (None, 112, 112, 64)      0         \n",
      "_________________________________________________________________\n",
      "block2_conv1 (Conv2D)        (None, 112, 112, 128)     73856     \n",
      "_________________________________________________________________\n",
      "block2_conv2 (Conv2D)        (None, 112, 112, 128)     147584    \n",
      "_________________________________________________________________\n",
      "block2_pool (MaxPooling2D)   (None, 56, 56, 128)       0         \n",
      "_________________________________________________________________\n",
      "block3_conv1 (Conv2D)        (None, 56, 56, 256)       295168    \n",
      "_________________________________________________________________\n",
      "block3_conv2 (Conv2D)        (None, 56, 56, 256)       590080    \n",
      "_________________________________________________________________\n",
      "block3_conv3 (Conv2D)        (None, 56, 56, 256)       590080    \n",
      "_________________________________________________________________\n",
      "block3_conv4 (Conv2D)        (None, 56, 56, 256)       590080    \n",
      "_________________________________________________________________\n",
      "block3_pool (MaxPooling2D)   (None, 28, 28, 256)       0         \n",
      "_________________________________________________________________\n",
      "block4_conv1 (Conv2D)        (None, 28, 28, 512)       1180160   \n",
      "_________________________________________________________________\n",
      "block4_conv2 (Conv2D)        (None, 28, 28, 512)       2359808   \n",
      "_________________________________________________________________\n",
      "block4_conv3 (Conv2D)        (None, 28, 28, 512)       2359808   \n",
      "_________________________________________________________________\n",
      "block4_conv4 (Conv2D)        (None, 28, 28, 512)       2359808   \n",
      "_________________________________________________________________\n",
      "block4_pool (MaxPooling2D)   (None, 14, 14, 512)       0         \n",
      "_________________________________________________________________\n",
      "block5_conv1 (Conv2D)        (None, 14, 14, 512)       2359808   \n",
      "_________________________________________________________________\n",
      "block5_conv2 (Conv2D)        (None, 14, 14, 512)       2359808   \n",
      "_________________________________________________________________\n",
      "block5_conv3 (Conv2D)        (None, 14, 14, 512)       2359808   \n",
      "_________________________________________________________________\n",
      "block5_conv4 (Conv2D)        (None, 14, 14, 512)       2359808   \n",
      "_________________________________________________________________\n",
      "block5_pool (MaxPooling2D)   (None, 7, 7, 512)         0         \n",
      "=================================================================\n",
      "Total params: 20,024,384\n",
      "Trainable params: 20,024,384\n",
      "Non-trainable params: 0\n",
      "_________________________________________________________________\n"
     ]
    }
   ],
   "source": [
    "vgg19.summary()"
   ]
  },
  {
   "cell_type": "code",
   "execution_count": 7,
   "metadata": {},
   "outputs": [],
   "source": [
    "#dont train the existing weight so, we will use\n",
    "\n",
    "for layer in vgg19.layers:\n",
    "    layer.trainable=False"
   ]
  },
  {
   "cell_type": "code",
   "execution_count": 8,
   "metadata": {},
   "outputs": [],
   "source": [
    "#now flatten the output of vgg19\n",
    "\n",
    "x=Flatten()(vgg19.output)"
   ]
  },
  {
   "cell_type": "code",
   "execution_count": 9,
   "metadata": {},
   "outputs": [
    {
     "name": "stdout",
     "output_type": "stream",
     "text": [
      "Tensor(\"flatten/Identity:0\", shape=(None, 25088), dtype=float32)\n",
      "Tensor(\"input_1:0\", shape=(None, 224, 224, 3), dtype=float32)\n"
     ]
    }
   ],
   "source": [
    "print(x)\n",
    "print(vgg19.input)"
   ]
  },
  {
   "cell_type": "code",
   "execution_count": 10,
   "metadata": {},
   "outputs": [],
   "source": [
    "prediction=Dense(2,activation='softmax')(x)\n",
    "model=Model(inputs=vgg19.input, outputs=prediction)"
   ]
  },
  {
   "cell_type": "code",
   "execution_count": 11,
   "metadata": {},
   "outputs": [
    {
     "name": "stdout",
     "output_type": "stream",
     "text": [
      "Tensor(\"dense/Identity:0\", shape=(None, 2), dtype=float32)\n"
     ]
    }
   ],
   "source": [
    "print(prediction)"
   ]
  },
  {
   "cell_type": "code",
   "execution_count": 12,
   "metadata": {},
   "outputs": [
    {
     "name": "stdout",
     "output_type": "stream",
     "text": [
      "Model: \"model\"\n",
      "_________________________________________________________________\n",
      "Layer (type)                 Output Shape              Param #   \n",
      "=================================================================\n",
      "input_1 (InputLayer)         [(None, 224, 224, 3)]     0         \n",
      "_________________________________________________________________\n",
      "block1_conv1 (Conv2D)        (None, 224, 224, 64)      1792      \n",
      "_________________________________________________________________\n",
      "block1_conv2 (Conv2D)        (None, 224, 224, 64)      36928     \n",
      "_________________________________________________________________\n",
      "block1_pool (MaxPooling2D)   (None, 112, 112, 64)      0         \n",
      "_________________________________________________________________\n",
      "block2_conv1 (Conv2D)        (None, 112, 112, 128)     73856     \n",
      "_________________________________________________________________\n",
      "block2_conv2 (Conv2D)        (None, 112, 112, 128)     147584    \n",
      "_________________________________________________________________\n",
      "block2_pool (MaxPooling2D)   (None, 56, 56, 128)       0         \n",
      "_________________________________________________________________\n",
      "block3_conv1 (Conv2D)        (None, 56, 56, 256)       295168    \n",
      "_________________________________________________________________\n",
      "block3_conv2 (Conv2D)        (None, 56, 56, 256)       590080    \n",
      "_________________________________________________________________\n",
      "block3_conv3 (Conv2D)        (None, 56, 56, 256)       590080    \n",
      "_________________________________________________________________\n",
      "block3_conv4 (Conv2D)        (None, 56, 56, 256)       590080    \n",
      "_________________________________________________________________\n",
      "block3_pool (MaxPooling2D)   (None, 28, 28, 256)       0         \n",
      "_________________________________________________________________\n",
      "block4_conv1 (Conv2D)        (None, 28, 28, 512)       1180160   \n",
      "_________________________________________________________________\n",
      "block4_conv2 (Conv2D)        (None, 28, 28, 512)       2359808   \n",
      "_________________________________________________________________\n",
      "block4_conv3 (Conv2D)        (None, 28, 28, 512)       2359808   \n",
      "_________________________________________________________________\n",
      "block4_conv4 (Conv2D)        (None, 28, 28, 512)       2359808   \n",
      "_________________________________________________________________\n",
      "block4_pool (MaxPooling2D)   (None, 14, 14, 512)       0         \n",
      "_________________________________________________________________\n",
      "block5_conv1 (Conv2D)        (None, 14, 14, 512)       2359808   \n",
      "_________________________________________________________________\n",
      "block5_conv2 (Conv2D)        (None, 14, 14, 512)       2359808   \n",
      "_________________________________________________________________\n",
      "block5_conv3 (Conv2D)        (None, 14, 14, 512)       2359808   \n",
      "_________________________________________________________________\n",
      "block5_conv4 (Conv2D)        (None, 14, 14, 512)       2359808   \n",
      "_________________________________________________________________\n",
      "block5_pool (MaxPooling2D)   (None, 7, 7, 512)         0         \n",
      "_________________________________________________________________\n",
      "flatten (Flatten)            (None, 25088)             0         \n",
      "_________________________________________________________________\n",
      "dense (Dense)                (None, 2)                 50178     \n",
      "=================================================================\n",
      "Total params: 20,074,562\n",
      "Trainable params: 50,178\n",
      "Non-trainable params: 20,024,384\n",
      "_________________________________________________________________\n"
     ]
    }
   ],
   "source": [
    "model.summary()"
   ]
  },
  {
   "cell_type": "code",
   "execution_count": 13,
   "metadata": {},
   "outputs": [],
   "source": [
    "from tensorflow.keras.layers import MaxPooling2D"
   ]
  },
  {
   "cell_type": "code",
   "execution_count": 14,
   "metadata": {},
   "outputs": [],
   "source": [
    "#model=Sequential()\n",
    "#model.add(Conv2D(filters=16,kernel_size=2,padding=\"same\",activation='relu',inpu))"
   ]
  },
  {
   "cell_type": "code",
   "execution_count": 15,
   "metadata": {},
   "outputs": [],
   "source": [
    "model.compile(loss='categorical_crossentropy',optimizer='adam',metrics=['accuracy'])"
   ]
  },
  {
   "cell_type": "code",
   "execution_count": 16,
   "metadata": {},
   "outputs": [],
   "source": [
    "#use ImageDataGenerator to import images from folder"
   ]
  },
  {
   "cell_type": "code",
   "execution_count": 17,
   "metadata": {},
   "outputs": [],
   "source": [
    "from tensorflow.keras.preprocessing.image import ImageDataGenerator\n",
    "\n",
    "train_datagen=ImageDataGenerator(rescale=1./255,\n",
    "                                shear_range=.2,\n",
    "                                zoom_range=.2,\n",
    "                                horizontal_flip=True)\n",
    "\n",
    "test_datagen=ImageDataGenerator(rescale=1./255)"
   ]
  },
  {
   "cell_type": "code",
   "execution_count": 18,
   "metadata": {},
   "outputs": [
    {
     "name": "stdout",
     "output_type": "stream",
     "text": [
      "Found 416 images belonging to 2 classes.\n"
     ]
    }
   ],
   "source": [
    "training_set=train_datagen.flow_from_directory(r\"C:\\Users\\Lenovo\\Downloads\\Dataset\\Train\",\n",
    "                                              target_size=(224,224),\n",
    "                                              batch_size=32,\n",
    "                                              class_mode='categorical')"
   ]
  },
  {
   "cell_type": "code",
   "execution_count": 19,
   "metadata": {},
   "outputs": [
    {
     "name": "stdout",
     "output_type": "stream",
     "text": [
      "Found 134 images belonging to 2 classes.\n"
     ]
    }
   ],
   "source": [
    "testing_set=test_datagen.flow_from_directory(r\"C:\\Users\\Lenovo\\Downloads\\Dataset\\Test\",\n",
    "                                            target_size=(224,224),\n",
    "                                            batch_size=32,\n",
    "                                            class_mode='categorical')"
   ]
  },
  {
   "cell_type": "markdown",
   "metadata": {},
   "source": [
    "# fit model"
   ]
  },
  {
   "cell_type": "code",
   "execution_count": 20,
   "metadata": {},
   "outputs": [
    {
     "name": "stdout",
     "output_type": "stream",
     "text": [
      "WARNING:tensorflow:sample_weight modes were coerced from\n",
      "  ...\n",
      "    to  \n",
      "  ['...']\n",
      "WARNING:tensorflow:sample_weight modes were coerced from\n",
      "  ...\n",
      "    to  \n",
      "  ['...']\n",
      "Train for 13 steps, validate for 5 steps\n",
      "Epoch 1/20\n",
      "13/13 [==============================] - 182s 14s/step - loss: 1.3642 - accuracy: 0.5096 - val_loss: 0.4764 - val_accuracy: 0.7090\n",
      "Epoch 2/20\n",
      "13/13 [==============================] - 179s 14s/step - loss: 0.6144 - accuracy: 0.6635 - val_loss: 0.6984 - val_accuracy: 0.5821\n",
      "Epoch 3/20\n",
      "13/13 [==============================] - 179s 14s/step - loss: 0.4300 - accuracy: 0.7957 - val_loss: 0.4471 - val_accuracy: 0.7313\n",
      "Epoch 4/20\n",
      "13/13 [==============================] - 179s 14s/step - loss: 0.3919 - accuracy: 0.8293 - val_loss: 0.5087 - val_accuracy: 0.7015\n",
      "Epoch 5/20\n",
      "13/13 [==============================] - 178s 14s/step - loss: 0.3218 - accuracy: 0.8750 - val_loss: 0.3375 - val_accuracy: 0.8134\n",
      "Epoch 6/20\n",
      "13/13 [==============================] - 179s 14s/step - loss: 0.2845 - accuracy: 0.9038 - val_loss: 0.3656 - val_accuracy: 0.8284\n",
      "Epoch 7/20\n",
      "13/13 [==============================] - 180s 14s/step - loss: 0.2493 - accuracy: 0.9183 - val_loss: 0.3125 - val_accuracy: 0.8731\n",
      "Epoch 8/20\n",
      "13/13 [==============================] - 180s 14s/step - loss: 0.2537 - accuracy: 0.9062 - val_loss: 0.2967 - val_accuracy: 0.8955\n",
      "Epoch 9/20\n",
      "13/13 [==============================] - 179s 14s/step - loss: 0.2288 - accuracy: 0.9255 - val_loss: 0.3417 - val_accuracy: 0.8358\n",
      "Epoch 10/20\n",
      "13/13 [==============================] - 180s 14s/step - loss: 0.2297 - accuracy: 0.9303 - val_loss: 0.2999 - val_accuracy: 0.8507\n",
      "Epoch 11/20\n",
      "13/13 [==============================] - 179s 14s/step - loss: 0.2391 - accuracy: 0.9207 - val_loss: 0.2454 - val_accuracy: 0.9030\n",
      "Epoch 12/20\n",
      "13/13 [==============================] - 179s 14s/step - loss: 0.2156 - accuracy: 0.9183 - val_loss: 0.2496 - val_accuracy: 0.9104\n",
      "Epoch 13/20\n",
      "13/13 [==============================] - 179s 14s/step - loss: 0.1944 - accuracy: 0.9495 - val_loss: 0.2900 - val_accuracy: 0.8433\n",
      "Epoch 14/20\n",
      "13/13 [==============================] - 179s 14s/step - loss: 0.1939 - accuracy: 0.9399 - val_loss: 0.2301 - val_accuracy: 0.9328\n",
      "Epoch 15/20\n",
      "13/13 [==============================] - 179s 14s/step - loss: 0.1765 - accuracy: 0.9423 - val_loss: 0.2342 - val_accuracy: 0.9179\n",
      "Epoch 16/20\n",
      "13/13 [==============================] - 177s 14s/step - loss: 0.1840 - accuracy: 0.9519 - val_loss: 0.4528 - val_accuracy: 0.7388\n",
      "Epoch 17/20\n",
      "13/13 [==============================] - 177s 14s/step - loss: 0.1536 - accuracy: 0.9471 - val_loss: 0.2499 - val_accuracy: 0.9104\n",
      "Epoch 18/20\n",
      "13/13 [==============================] - 178s 14s/step - loss: 0.1517 - accuracy: 0.9495 - val_loss: 0.2284 - val_accuracy: 0.8955\n",
      "Epoch 19/20\n",
      "13/13 [==============================] - 179s 14s/step - loss: 0.1695 - accuracy: 0.9351 - val_loss: 0.2255 - val_accuracy: 0.8955\n",
      "Epoch 20/20\n",
      "13/13 [==============================] - 178s 14s/step - loss: 0.1366 - accuracy: 0.9567 - val_loss: 0.2345 - val_accuracy: 0.8955\n"
     ]
    }
   ],
   "source": [
    "history=model.fit(training_set,\n",
    "                  validation_data=testing_set,\n",
    "                  epochs=20,\n",
    "                  steps_per_epoch=len(training_set),\n",
    "                  validation_steps=len(testing_set))"
   ]
  },
  {
   "cell_type": "code",
   "execution_count": 21,
   "metadata": {},
   "outputs": [],
   "source": [
    "from tensorflow.keras.models import load_model\n",
    "\n",
    "model.save('model_vgg19.h5')"
   ]
  },
  {
   "cell_type": "code",
   "execution_count": 144,
   "metadata": {},
   "outputs": [],
   "source": [
    "y_pred=model.predict(testing_set)"
   ]
  },
  {
   "cell_type": "code",
   "execution_count": 145,
   "metadata": {},
   "outputs": [
    {
     "name": "stdout",
     "output_type": "stream",
     "text": [
      "[[9.98176813e-01 1.82325009e-03]\n",
      " [9.87141728e-01 1.28582204e-02]\n",
      " [1.59373507e-01 8.40626538e-01]\n",
      " [6.29627854e-02 9.37037170e-01]\n",
      " [9.96059299e-01 3.94067820e-03]\n",
      " [4.21305060e-01 5.78694940e-01]\n",
      " [6.25144541e-01 3.74855489e-01]\n",
      " [8.11493874e-01 1.88506126e-01]\n",
      " [9.34343934e-01 6.56560957e-02]\n",
      " [9.75928962e-01 2.40710489e-02]\n",
      " [9.77187216e-01 2.28127539e-02]\n",
      " [9.87430811e-01 1.25692273e-02]\n",
      " [2.49166489e-01 7.50833511e-01]\n",
      " [9.77825224e-02 9.02217507e-01]\n",
      " [6.40782773e-01 3.59217167e-01]\n",
      " [7.01026917e-01 2.98973083e-01]\n",
      " [9.93860245e-01 6.13974174e-03]\n",
      " [6.50423467e-01 3.49576503e-01]\n",
      " [7.11006165e-01 2.88993835e-01]\n",
      " [9.82574284e-01 1.74257811e-02]\n",
      " [9.57245886e-01 4.27541211e-02]\n",
      " [2.92039543e-01 7.07960486e-01]\n",
      " [7.92492092e-01 2.07507938e-01]\n",
      " [1.48008063e-01 8.51991951e-01]\n",
      " [8.42340529e-01 1.57659471e-01]\n",
      " [1.07640944e-01 8.92359078e-01]\n",
      " [9.20334518e-01 7.96654597e-02]\n",
      " [9.89754140e-01 1.02458745e-02]\n",
      " [9.95863318e-01 4.13661869e-03]\n",
      " [9.44961429e-01 5.50385751e-02]\n",
      " [3.30573350e-01 6.69426620e-01]\n",
      " [6.69554770e-01 3.30445260e-01]\n",
      " [9.99997139e-01 2.87172088e-06]\n",
      " [2.41156027e-01 7.58843958e-01]\n",
      " [1.02975503e-01 8.97024512e-01]\n",
      " [1.08478270e-01 8.91521752e-01]\n",
      " [6.84777200e-02 9.31522310e-01]\n",
      " [8.35581481e-01 1.64418578e-01]\n",
      " [9.76127923e-01 2.38720737e-02]\n",
      " [9.99218941e-01 7.81085109e-04]\n",
      " [7.47938573e-01 2.52061427e-01]\n",
      " [9.99980569e-01 1.94445693e-05]\n",
      " [9.98345375e-01 1.65463751e-03]\n",
      " [5.18768728e-01 4.81231272e-01]\n",
      " [9.99395728e-01 6.04313042e-04]\n",
      " [8.79223049e-01 1.20776989e-01]\n",
      " [8.52399290e-01 1.47600740e-01]\n",
      " [1.50871336e-01 8.49128604e-01]\n",
      " [1.49998948e-01 8.50001097e-01]\n",
      " [9.92417455e-01 7.58260069e-03]\n",
      " [9.12128627e-01 8.78713503e-02]\n",
      " [6.54032171e-01 3.45967829e-01]\n",
      " [2.81193942e-01 7.18806088e-01]\n",
      " [9.95731771e-01 4.26817499e-03]\n",
      " [1.03317082e-01 8.96682978e-01]\n",
      " [2.45860443e-01 7.54139543e-01]\n",
      " [5.75864375e-01 4.24135685e-01]\n",
      " [9.99421120e-01 5.78892068e-04]\n",
      " [7.68967450e-01 2.31032595e-01]\n",
      " [8.32468048e-02 9.16753173e-01]\n",
      " [5.92048168e-02 9.40795183e-01]\n",
      " [9.45493221e-01 5.45067005e-02]\n",
      " [4.10214424e-01 5.89785576e-01]\n",
      " [8.29623565e-02 9.17037606e-01]\n",
      " [9.95650351e-01 4.34962008e-03]\n",
      " [9.93217647e-01 6.78232452e-03]\n",
      " [7.18612492e-01 2.81387538e-01]\n",
      " [7.59431541e-01 2.40568489e-01]\n",
      " [9.96516347e-01 3.48369242e-03]\n",
      " [9.92038965e-01 7.96108413e-03]\n",
      " [9.92472172e-01 7.52783986e-03]\n",
      " [9.95950460e-01 4.04951163e-03]\n",
      " [6.86889231e-01 3.13110769e-01]\n",
      " [1.25074372e-01 8.74925673e-01]\n",
      " [1.02243111e-01 8.97756875e-01]\n",
      " [6.97608352e-01 3.02391648e-01]\n",
      " [9.48207736e-01 5.17922603e-02]\n",
      " [4.90229100e-01 5.09770930e-01]\n",
      " [3.61687988e-01 6.38311982e-01]\n",
      " [2.10477740e-01 7.89522290e-01]\n",
      " [9.39095974e-01 6.09040856e-02]\n",
      " [9.21043456e-01 7.89565369e-02]\n",
      " [9.72048581e-01 2.79514659e-02]\n",
      " [3.33481841e-02 9.66651797e-01]\n",
      " [7.78356433e-01 2.21643552e-01]\n",
      " [9.72168073e-02 9.02783155e-01]\n",
      " [3.62633049e-01 6.37367010e-01]\n",
      " [9.23081636e-01 7.69182816e-02]\n",
      " [1.14837103e-01 8.85162890e-01]\n",
      " [3.14441949e-01 6.85558081e-01]\n",
      " [9.88599300e-01 1.14006978e-02]\n",
      " [1.12649113e-01 8.87350917e-01]\n",
      " [2.13864550e-01 7.86135495e-01]\n",
      " [1.80758819e-01 8.19241226e-01]\n",
      " [2.54702747e-01 7.45297313e-01]\n",
      " [1.99185207e-01 8.00814807e-01]\n",
      " [3.63341838e-01 6.36658192e-01]\n",
      " [1.46358892e-01 8.53641093e-01]\n",
      " [9.99683857e-01 3.16161604e-04]\n",
      " [9.98098314e-01 1.90167467e-03]\n",
      " [2.66930938e-01 7.33069122e-01]\n",
      " [9.99860287e-01 1.39694806e-04]\n",
      " [1.20876439e-01 8.79123628e-01]\n",
      " [6.47468090e-01 3.52531910e-01]\n",
      " [5.20962715e-01 4.79037315e-01]\n",
      " [1.29326671e-01 8.70673299e-01]\n",
      " [4.71941680e-01 5.28058350e-01]\n",
      " [9.93769467e-01 6.23050286e-03]\n",
      " [2.66689599e-01 7.33310461e-01]\n",
      " [9.99819696e-01 1.80343442e-04]\n",
      " [1.04608849e-01 8.95391166e-01]\n",
      " [2.16065139e-01 7.83934891e-01]\n",
      " [2.08022922e-01 7.91977108e-01]\n",
      " [2.10474789e-01 7.89525270e-01]\n",
      " [9.44687188e-01 5.53127676e-02]\n",
      " [9.98175740e-01 1.82420725e-03]\n",
      " [4.78380948e-01 5.21619081e-01]\n",
      " [9.99757826e-01 2.42171882e-04]\n",
      " [9.87655342e-01 1.23447319e-02]\n",
      " [2.11602286e-01 7.88397670e-01]\n",
      " [9.98136759e-01 1.86321826e-03]\n",
      " [8.88600588e-01 1.11399427e-01]\n",
      " [9.74314436e-02 9.02568579e-01]\n",
      " [8.05916548e-01 1.94083452e-01]\n",
      " [9.92940426e-01 7.05957226e-03]\n",
      " [2.39523381e-01 7.60476649e-01]\n",
      " [7.46005028e-02 9.25399542e-01]\n",
      " [8.51913154e-01 1.48086905e-01]\n",
      " [9.99987364e-01 1.25951447e-05]\n",
      " [9.99783576e-01 2.16384491e-04]\n",
      " [9.96155679e-01 3.84434755e-03]\n",
      " [8.89275312e-01 1.10724650e-01]\n",
      " [9.12121117e-01 8.78789276e-02]\n",
      " [6.57118857e-01 3.42881113e-01]]\n"
     ]
    }
   ],
   "source": [
    "print(y_pred)"
   ]
  },
  {
   "cell_type": "code",
   "execution_count": 146,
   "metadata": {},
   "outputs": [
    {
     "data": {
      "text/plain": [
       "array([0, 0, 1, 1, 0, 1, 0, 0, 0, 0, 0, 0, 1, 1, 0, 0, 0, 0, 0, 0, 0, 1,\n",
       "       0, 1, 0, 1, 0, 0, 0, 0, 1, 0, 0, 1, 1, 1, 1, 0, 0, 0, 0, 0, 0, 0,\n",
       "       0, 0, 0, 1, 1, 0, 0, 0, 1, 0, 1, 1, 0, 0, 0, 1, 1, 0, 1, 1, 0, 0,\n",
       "       0, 0, 0, 0, 0, 0, 0, 1, 1, 0, 0, 1, 1, 1, 0, 0, 0, 1, 0, 1, 1, 0,\n",
       "       1, 1, 0, 1, 1, 1, 1, 1, 1, 1, 0, 0, 1, 0, 1, 0, 0, 1, 1, 0, 1, 0,\n",
       "       1, 1, 1, 1, 0, 0, 1, 0, 0, 1, 0, 0, 1, 0, 0, 1, 1, 0, 0, 0, 0, 0,\n",
       "       0, 0], dtype=int64)"
      ]
     },
     "execution_count": 146,
     "metadata": {},
     "output_type": "execute_result"
    }
   ],
   "source": [
    "import numpy as np\n",
    "y_pred=np.argmax(y_pred,axis=1)\n",
    "y_pred"
   ]
  },
  {
   "cell_type": "markdown",
   "metadata": {},
   "source": [
    "# check the prediction"
   ]
  },
  {
   "cell_type": "code",
   "execution_count": 147,
   "metadata": {},
   "outputs": [],
   "source": [
    "from tensorflow.keras.models import load_model\n",
    "from tensorflow.keras.preprocessing import image"
   ]
  },
  {
   "cell_type": "code",
   "execution_count": 148,
   "metadata": {},
   "outputs": [],
   "source": [
    "model=load_model('model_vgg19.h5')"
   ]
  },
  {
   "cell_type": "code",
   "execution_count": 167,
   "metadata": {},
   "outputs": [],
   "source": [
    "img=image.load_img(r\"C:\\Users\\Lenovo\\Downloads\\cell_images\\cell_images\\Parasitized\\C182P143NThinF_IMG_20151201_172759_cell_13.png\",target_size=(224,224))"
   ]
  },
  {
   "cell_type": "code",
   "execution_count": 168,
   "metadata": {},
   "outputs": [],
   "source": [
    "x=image.img_to_array(img)"
   ]
  },
  {
   "cell_type": "code",
   "execution_count": 169,
   "metadata": {},
   "outputs": [
    {
     "data": {
      "text/plain": [
       "(224, 224, 3)"
      ]
     },
     "execution_count": 169,
     "metadata": {},
     "output_type": "execute_result"
    }
   ],
   "source": [
    "x.shape"
   ]
  },
  {
   "cell_type": "code",
   "execution_count": 170,
   "metadata": {},
   "outputs": [],
   "source": [
    "x=x/255"
   ]
  },
  {
   "cell_type": "markdown",
   "metadata": {},
   "source": [
    "# expand the image dimension"
   ]
  },
  {
   "cell_type": "code",
   "execution_count": 171,
   "metadata": {},
   "outputs": [
    {
     "data": {
      "text/plain": [
       "(1, 224, 224, 3)"
      ]
     },
     "execution_count": 171,
     "metadata": {},
     "output_type": "execute_result"
    }
   ],
   "source": [
    "x=np.expand_dims(x,axis=0)\n",
    "img_data=preprocess_input(x)\n",
    "img_data.shape"
   ]
  },
  {
   "cell_type": "code",
   "execution_count": 172,
   "metadata": {},
   "outputs": [
    {
     "data": {
      "text/plain": [
       "array([[0.41052452, 0.5894755 ]], dtype=float32)"
      ]
     },
     "execution_count": 172,
     "metadata": {},
     "output_type": "execute_result"
    }
   ],
   "source": [
    "model.predict(img_data)"
   ]
  },
  {
   "cell_type": "code",
   "execution_count": 173,
   "metadata": {},
   "outputs": [
    {
     "data": {
      "text/plain": [
       "array([1], dtype=int64)"
      ]
     },
     "execution_count": 173,
     "metadata": {},
     "output_type": "execute_result"
    }
   ],
   "source": [
    "prediction=np.argmax(model.predict(img_data),axis=1)\n",
    "prediction"
   ]
  },
  {
   "cell_type": "code",
   "execution_count": 174,
   "metadata": {},
   "outputs": [
    {
     "name": "stdout",
     "output_type": "stream",
     "text": [
      "Uninfected\n"
     ]
    }
   ],
   "source": [
    "if (prediction==1):\n",
    "    print(\"Uninfected\")\n",
    "else:\n",
    "    print('infected')"
   ]
  }
 ],
 "metadata": {
  "kernelspec": {
   "display_name": "Python 3",
   "language": "python",
   "name": "python3"
  },
  "language_info": {
   "codemirror_mode": {
    "name": "ipython",
    "version": 3
   },
   "file_extension": ".py",
   "mimetype": "text/x-python",
   "name": "python",
   "nbconvert_exporter": "python",
   "pygments_lexer": "ipython3",
   "version": "3.7.7"
  }
 },
 "nbformat": 4,
 "nbformat_minor": 4
}
